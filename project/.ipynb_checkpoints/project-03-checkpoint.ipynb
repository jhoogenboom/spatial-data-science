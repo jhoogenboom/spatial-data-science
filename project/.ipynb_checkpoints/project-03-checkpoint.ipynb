{
 "cells": [
  {
   "cell_type": "markdown",
   "metadata": {},
   "source": [
    "# <img style=\"float: left; padding-right: 10px; width: 200px\" src=\"https://raw.githubusercontent.com/trivikverma/researchgroup/master/assets/media/logo.png\"> EPA-122A *Spatial* Data Science  \n",
    "\n",
    "## Project 3: Modelling COVID-19 case-study\n",
    "\n",
    "**TU Delft**<br>\n",
    "**Q2 2023**<br>\n",
    "**Instructor:** Trivik Verma <br>\n",
    "**[Centre for Urban Science & Policy]( https://cusp.tbm.tudelft.nl/)** <br>\n",
    "\n",
    "---\n",
    "\n"
   ]
  },
  {
   "cell_type": "markdown",
   "metadata": {},
   "source": [
    "COVID-19 has proven to be one of the deadliest pandemics in history. Our policymakers have diminished the consequences and impacts of varied measures to mere models and numbers. Schools have shut down for months, crime and abuse have risen and millions of people have lost their jobs. In India, multiple communities of migrant labourers, minorities and children have disproportionately been affected by the pandemic. It is imperative to find where our policy measures are needed most, and how to implement them, to reduce the disproportionate impact on life and work of countless families across the country.\n",
    "\n",
    "Project goals: The primary goals of this project are to (1) identify the socio-economic composition of communities affected by COVID-19 across India, and (2) compare the characteristics of these communities based on their geography and socio-economic indicators.\n",
    "\n",
    "#### DATA\n",
    "\n",
    "1. An example: [DDL Covid India](http://www.devdatalab.org/covid): Open-source COVID-19 data that tracks the spread of the disease in India curated by the Development Data Lab.\n",
    "\n",
    "#### High-level project goals\n",
    "\n",
    "1. Obtain publicly available region-level data from the source above (demographics,\n",
    "health indicators, etc.) and combine with COVID-19 case counts at the region-level.\n",
    "Use state-wide policy data if you can find, to understand and corelate the trends in case numbers. You can also use the socio-economic data of India from the same lab found [here](http://www.devdatalab.org/shrug).\n",
    "2. Explore, Investigate, and Visualize various factors of the demographics of India.\n",
    "3. Build clustering models for identifying the composition of communities that are affected by COVID-19. Example: Who they are? How are they impacted? What is their socio-economic condition? Are rural areas more prone to the disease than urban areas? \n",
    "3. Compare the impact of governmental policies on controlling the disease based on your\n",
    "clustering models. Example: how could have policy measures impacted communities differently?\n"
   ]
  }
 ],
 "metadata": {
  "kernelspec": {
   "display_name": "Python 3 (ipykernel)",
   "language": "python",
   "name": "python3"
  },
  "language_info": {
   "codemirror_mode": {
    "name": "ipython",
    "version": 3
   },
   "file_extension": ".py",
   "mimetype": "text/x-python",
   "name": "python",
   "nbconvert_exporter": "python",
   "pygments_lexer": "ipython3",
   "version": "3.9.13"
  }
 },
 "nbformat": 4,
 "nbformat_minor": 4
}
